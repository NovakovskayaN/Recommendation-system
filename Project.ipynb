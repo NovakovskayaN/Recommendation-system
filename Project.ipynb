{
 "cells": [
  {
   "attachments": {},
   "cell_type": "markdown",
   "metadata": {},
   "source": [
    "### ****Финальный проект****\n",
    "### Создание рекомендательной системы\n",
    "\n",
    "#### Задача. \n",
    "1. Создание рекомендательной системы, благодаря которой можно будет предлагать клиентам интересные им курсы и тем самым повышать средний чек\n",
    "\n",
    "#### Формализованные задачи:\n",
    "1. Подготовить и проанализировать данные с помощью SQL.\n",
    "2. Обработать данные средствами Python.\n",
    "3. Составить итоговую таблицу с рекомендациями"
   ]
  },
  {
   "cell_type": "code",
   "execution_count": 4,
   "metadata": {},
   "outputs": [],
   "source": [
    "import pandas as pd\n",
    "import numpy as np\n",
    "import psycopg2\n",
    "import psycopg2.extras \n",
    "from collections import Counter\n",
    "import itertools "
   ]
  },
  {
   "cell_type": "code",
   "execution_count": 5,
   "metadata": {},
   "outputs": [
    {
     "data": {
      "text/html": [
       "<div>\n",
       "<style scoped>\n",
       "    .dataframe tbody tr th:only-of-type {\n",
       "        vertical-align: middle;\n",
       "    }\n",
       "\n",
       "    .dataframe tbody tr th {\n",
       "        vertical-align: top;\n",
       "    }\n",
       "\n",
       "    .dataframe thead th {\n",
       "        text-align: right;\n",
       "    }\n",
       "</style>\n",
       "<table border=\"1\" class=\"dataframe\">\n",
       "  <thead>\n",
       "    <tr style=\"text-align: right;\">\n",
       "      <th></th>\n",
       "      <th>user_id</th>\n",
       "      <th>course_id</th>\n",
       "    </tr>\n",
       "  </thead>\n",
       "  <tbody>\n",
       "    <tr>\n",
       "      <th>0</th>\n",
       "      <td>51</td>\n",
       "      <td>516</td>\n",
       "    </tr>\n",
       "    <tr>\n",
       "      <th>1</th>\n",
       "      <td>51</td>\n",
       "      <td>1099</td>\n",
       "    </tr>\n",
       "    <tr>\n",
       "      <th>2</th>\n",
       "      <td>6117</td>\n",
       "      <td>356</td>\n",
       "    </tr>\n",
       "    <tr>\n",
       "      <th>3</th>\n",
       "      <td>6117</td>\n",
       "      <td>357</td>\n",
       "    </tr>\n",
       "    <tr>\n",
       "      <th>4</th>\n",
       "      <td>6117</td>\n",
       "      <td>1125</td>\n",
       "    </tr>\n",
       "  </tbody>\n",
       "</table>\n",
       "</div>"
      ],
      "text/plain": [
       "   user_id  course_id\n",
       "0       51        516\n",
       "1       51       1099\n",
       "2     6117        356\n",
       "3     6117        357\n",
       "4     6117       1125"
      ]
     },
     "execution_count": 5,
     "metadata": {},
     "output_type": "execute_result"
    }
   ],
   "source": [
    "# Напишем фукцию для выгрузки данных из базы данных\n",
    "def GetUsersAndCourses():\n",
    "    query = '''with courses as\n",
    "    (select c.user_id, ci.resource_id as course_id,\n",
    "    count (ci.resource_id) over (partition by c.user_id) as col\n",
    "    from final.carts as c \n",
    "    left join final.cart_items as ci on c.id = ci.cart_id\n",
    "    where ci.resource_type = 'Course' and c.state = 'successful'\n",
    "    group by c.user_id, ci.resource_id)\n",
    "    Select  user_id, course_id from courses where col > 1\n",
    "    '''.format()\n",
    "    conn = psycopg2.connect(\"dbname='skillfactory' user='skillfactory' \\\n",
    "                            host='84.201.134.129' password='cCkxxLVrDE8EbvjueeMedPKt' port=5432\")\n",
    "    dict_cur = conn.cursor(cursor_factory=psycopg2.extras.DictCursor)\n",
    "    dict_cur.execute(query)\n",
    "    rows = dict_cur.fetchall()\n",
    "    data = []\n",
    "    for row in rows:\n",
    "        data.append(dict(row))\n",
    "    return data\n",
    "\n",
    "# Создадим DataFrame с выгруженными данными\n",
    "users_courses_df = pd.DataFrame(GetUsersAndCourses())\n",
    "users_courses_df.head(5)"
   ]
  },
  {
   "cell_type": "code",
   "execution_count": 6,
   "metadata": {},
   "outputs": [
    {
     "data": {
      "text/html": [
       "<div>\n",
       "<style scoped>\n",
       "    .dataframe tbody tr th:only-of-type {\n",
       "        vertical-align: middle;\n",
       "    }\n",
       "\n",
       "    .dataframe tbody tr th {\n",
       "        vertical-align: top;\n",
       "    }\n",
       "\n",
       "    .dataframe thead th {\n",
       "        text-align: right;\n",
       "    }\n",
       "</style>\n",
       "<table border=\"1\" class=\"dataframe\">\n",
       "  <thead>\n",
       "    <tr style=\"text-align: right;\">\n",
       "      <th></th>\n",
       "      <th>user_id</th>\n",
       "      <th>course_id</th>\n",
       "    </tr>\n",
       "  </thead>\n",
       "  <tbody>\n",
       "    <tr>\n",
       "      <th>0</th>\n",
       "      <td>51</td>\n",
       "      <td>[516, 1099]</td>\n",
       "    </tr>\n",
       "    <tr>\n",
       "      <th>1</th>\n",
       "      <td>6117</td>\n",
       "      <td>[356, 357, 1125]</td>\n",
       "    </tr>\n",
       "    <tr>\n",
       "      <th>2</th>\n",
       "      <td>10275</td>\n",
       "      <td>[553, 1147]</td>\n",
       "    </tr>\n",
       "    <tr>\n",
       "      <th>3</th>\n",
       "      <td>10457</td>\n",
       "      <td>[361, 1138]</td>\n",
       "    </tr>\n",
       "    <tr>\n",
       "      <th>4</th>\n",
       "      <td>17166</td>\n",
       "      <td>[356, 357]</td>\n",
       "    </tr>\n",
       "  </tbody>\n",
       "</table>\n",
       "</div>"
      ],
      "text/plain": [
       "   user_id         course_id\n",
       "0       51       [516, 1099]\n",
       "1     6117  [356, 357, 1125]\n",
       "2    10275       [553, 1147]\n",
       "3    10457       [361, 1138]\n",
       "4    17166        [356, 357]"
      ]
     },
     "execution_count": 6,
     "metadata": {},
     "output_type": "execute_result"
    }
   ],
   "source": [
    "# Создадим перечень уникальных курсов\n",
    "courses_set = sorted(set(users_courses_df['course_id']))\n",
    "\n",
    "# Сгруппируем данные по пользователям и создадим столбец списка курсов, которые покупал каждый пользователь\n",
    "users_courses_df = users_courses_df.groupby(['user_id'])['course_id'].apply(list).reset_index()\n",
    "users_courses_df.head(5)"
   ]
  },
  {
   "cell_type": "code",
   "execution_count": 7,
   "metadata": {},
   "outputs": [
    {
     "data": {
      "text/plain": [
       "[(356, 357),\n",
       " (356, 1125),\n",
       " (357, 1125),\n",
       " (553, 1147),\n",
       " (361, 1138),\n",
       " (356, 357),\n",
       " (1125, 1140),\n",
       " (551, 745),\n",
       " (553, 745)]"
      ]
     },
     "execution_count": 7,
     "metadata": {},
     "output_type": "execute_result"
    }
   ],
   "source": [
    "# Создадим список всех возможных пар курсов, купленных одним пользователем\n",
    "pairs = []\n",
    "pairs.extend(users_courses_df['course_id'].apply(lambda x: list(itertools.combinations(x,2))))\n",
    "pairs_list = list(itertools.chain(*pairs))\n",
    "pairs_list[1:10]"
   ]
  },
  {
   "cell_type": "code",
   "execution_count": 8,
   "metadata": {},
   "outputs": [
    {
     "data": {
      "text/plain": [
       "[((551, 566), 797),\n",
       " ((515, 551), 417),\n",
       " ((489, 551), 311),\n",
       " ((523, 551), 304),\n",
       " ((566, 794), 290),\n",
       " ((489, 515), 286),\n",
       " ((490, 566), 253),\n",
       " ((490, 551), 247),\n",
       " ((570, 752), 247),\n",
       " ((569, 572), 216)]"
      ]
     },
     "metadata": {},
     "output_type": "display_data"
    }
   ],
   "source": [
    "# Создадим множество уникальных пар\n",
    "pairs_set = set(pairs_list)\n",
    "\n",
    "# Создадим счетчик пар: сколько раз встречается каждая пара\n",
    "pairs_count = Counter(pairs_list)\n",
    "display(pairs_count.most_common(10))"
   ]
  },
  {
   "cell_type": "code",
   "execution_count": 9,
   "metadata": {},
   "outputs": [
    {
     "data": {
      "text/plain": [
       "count    3989.000000\n",
       "mean       10.031838\n",
       "std        26.355998\n",
       "min         1.000000\n",
       "25%         1.000000\n",
       "50%         3.000000\n",
       "75%         9.000000\n",
       "max       797.000000\n",
       "dtype: float64"
      ]
     },
     "execution_count": 9,
     "metadata": {},
     "output_type": "execute_result"
    }
   ],
   "source": [
    "# Рассмотрим счетчик пар подробнее. Преобразуем значения счетчика в объект Series для удобства изучения\n",
    "pairs_count_series = pd.Series(pairs_count.values())\n",
    "pairs_count_series.describe()"
   ]
  },
  {
   "attachments": {},
   "cell_type": "markdown",
   "metadata": {},
   "source": [
    "Все уникальных пар 3989, максимально пара курсов встречается 797 раз, минимально 1. При этом среднее значение количества повторений пар 10, а третий квартиль (75%) находится на границе 9 повторений. Из этого следует, что 75% наблюдений находятся ниже уровня средней границы. Это свидетельствует об ассиметрии данных. Распределение далеко от нормального"
   ]
  },
  {
   "cell_type": "code",
   "execution_count": 10,
   "metadata": {},
   "outputs": [
    {
     "data": {
      "image/png": "[encoded data removed]",
      "text/plain": [
       "<Figure size 1000x600 with 1 Axes>"
      ]
     },
     "metadata": {},
     "output_type": "display_data"
    }
   ],
   "source": [
    "# Построим гистрограмму для наглядного отображения распределения количества повторений пар курсов\n",
    "pairs_count_series.plot(\n",
    "    kind='hist',\n",
    "    figsize=(10, 6),\n",
    "    title='Распределение количества повторений пар курсов',\n",
    "    grid=True,\n",
    "    color='green',\n",
    "    bins=200\n",
    ");"
   ]
  },
  {
   "attachments": {},
   "cell_type": "markdown",
   "metadata": {},
   "source": [
    "Гистограмма подтверждает вычисления: наибольшая часть количества повторений находится в диапазоне от 1 до 10"
   ]
  },
  {
   "cell_type": "code",
   "execution_count": 11,
   "metadata": {},
   "outputs": [
    {
     "data": {
      "text/plain": [
       "1     1185\n",
       "2      578\n",
       "3      366\n",
       "4      259\n",
       "5      202\n",
       "7      148\n",
       "6      148\n",
       "8       95\n",
       "10      87\n",
       "9       80\n",
       "dtype: int64"
      ]
     },
     "execution_count": 11,
     "metadata": {},
     "output_type": "execute_result"
    }
   ],
   "source": [
    "# Рассчитаем, сколько пар повторяются только 1 раз\n",
    "pairs_count_series.value_counts().nlargest(10)"
   ]
  },
  {
   "attachments": {},
   "cell_type": "markdown",
   "metadata": {},
   "source": [
    "1185 пар курсов встречаются всего 1 раз. Для более детального анализа не хватает данных о тематике курсов. Возможно, это курсы из разных предметных областей и их совместная покупка одним пользователем указывает на его специфические предпочтения, которые не являются статистически значимыми. В дальнейшем при составлении таблицы рекомендаций будем рассматривать только пары курсов, которые встречаются более 1 раза. "
   ]
  },
  {
   "cell_type": "code",
   "execution_count": 12,
   "metadata": {},
   "outputs": [],
   "source": [
    "def Get_Recommendation(course):\n",
    "    \"\"\"Функция для подбора двух рекомендаций к выбранному курсу\"\"\"\n",
    "    recommend_list = []\n",
    "    \n",
    "    # Цикл по элементам (уникальным парам) счетчика пар\n",
    "    for element in pairs_count.elements():\n",
    "        if course == element[0]: # Находим нужную пару к переданному в функцию курсу\n",
    "            val = [element[1], pairs_count[element]] # Создаем список из рекомендованного курса и количества повторений\n",
    "            if val not in recommend_list: # Если рекомендованного курса нет в списке рекомендаций, то добавляем\n",
    "                recommend_list.append(val)  \n",
    "  \n",
    "    # Проверяем на наличие рекомендаций к выбранному курсу, если рекомендаций нет или мало, \n",
    "    # то ищем заданный курс на втором месте в парах\n",
    "    if len(recommend_list)<2: \n",
    "        for element in pairs_count.elements():\n",
    "            if course == element[1]: # Находим нужную пару к переданному в функцию курсу\n",
    "                val = [element[0], pairs_count[element]] # Список из рекомендованного курса и количества повторений\n",
    "                if val not in recommend_list: # Если рекомендованного курса нет в списке рекомендаций, то добавляем\n",
    "                    recommend_list.append(val)\n",
    "    \n",
    "    # Сортируем список рекомендаций по количеству вхождений курса\n",
    "    recommend_list.sort(key=lambda x: x[1], reverse=True)    \n",
    "    \n",
    "    # Если количество повторений  меньше 2, то ищем рекомендации для первого в списке рекомендаций курса\n",
    "    if recommend_list[0][1]<2 or len(recommend_list)<2: \n",
    "        other_reccommend = Get_Recommendation(recommend_list[0][0])   \n",
    "        row = [course, other_reccommend[1], other_reccommend[2]]    \n",
    "        return row \n",
    "    else:\n",
    "        row = [course, recommend_list[0][0], recommend_list[1][0]] \n",
    "        return row "
   ]
  },
  {
   "cell_type": "code",
   "execution_count": 13,
   "metadata": {},
   "outputs": [
    {
     "data": {
      "text/html": [
       "<div>\n",
       "<style scoped>\n",
       "    .dataframe tbody tr th:only-of-type {\n",
       "        vertical-align: middle;\n",
       "    }\n",
       "\n",
       "    .dataframe tbody tr th {\n",
       "        vertical-align: top;\n",
       "    }\n",
       "\n",
       "    .dataframe thead th {\n",
       "        text-align: right;\n",
       "    }\n",
       "</style>\n",
       "<table border=\"1\" class=\"dataframe\">\n",
       "  <thead>\n",
       "    <tr style=\"text-align: right;\">\n",
       "      <th></th>\n",
       "      <th>Course_id</th>\n",
       "      <th>Recommendation_1</th>\n",
       "      <th>Recommendation_2</th>\n",
       "    </tr>\n",
       "  </thead>\n",
       "  <tbody>\n",
       "    <tr>\n",
       "      <th>0</th>\n",
       "      <td>356</td>\n",
       "      <td>571</td>\n",
       "      <td>357</td>\n",
       "    </tr>\n",
       "    <tr>\n",
       "      <th>1</th>\n",
       "      <td>357</td>\n",
       "      <td>571</td>\n",
       "      <td>1125</td>\n",
       "    </tr>\n",
       "    <tr>\n",
       "      <th>2</th>\n",
       "      <td>358</td>\n",
       "      <td>570</td>\n",
       "      <td>752</td>\n",
       "    </tr>\n",
       "    <tr>\n",
       "      <th>3</th>\n",
       "      <td>359</td>\n",
       "      <td>570</td>\n",
       "      <td>507</td>\n",
       "    </tr>\n",
       "    <tr>\n",
       "      <th>4</th>\n",
       "      <td>360</td>\n",
       "      <td>745</td>\n",
       "      <td>516</td>\n",
       "    </tr>\n",
       "    <tr>\n",
       "      <th>...</th>\n",
       "      <td>...</td>\n",
       "      <td>...</td>\n",
       "      <td>...</td>\n",
       "    </tr>\n",
       "    <tr>\n",
       "      <th>121</th>\n",
       "      <td>1188</td>\n",
       "      <td>1141</td>\n",
       "      <td>513</td>\n",
       "    </tr>\n",
       "    <tr>\n",
       "      <th>122</th>\n",
       "      <td>1198</td>\n",
       "      <td>571</td>\n",
       "      <td>551</td>\n",
       "    </tr>\n",
       "    <tr>\n",
       "      <th>123</th>\n",
       "      <td>1199</td>\n",
       "      <td>523</td>\n",
       "      <td>515</td>\n",
       "    </tr>\n",
       "    <tr>\n",
       "      <th>124</th>\n",
       "      <td>1200</td>\n",
       "      <td>1104</td>\n",
       "      <td>1103</td>\n",
       "    </tr>\n",
       "    <tr>\n",
       "      <th>125</th>\n",
       "      <td>1201</td>\n",
       "      <td>1125</td>\n",
       "      <td>765</td>\n",
       "    </tr>\n",
       "  </tbody>\n",
       "</table>\n",
       "<p>126 rows × 3 columns</p>\n",
       "</div>"
      ],
      "text/plain": [
       "    Course_id Recommendation_1 Recommendation_2\n",
       "0         356              571              357\n",
       "1         357              571             1125\n",
       "2         358              570              752\n",
       "3         359              570              507\n",
       "4         360              745              516\n",
       "..        ...              ...              ...\n",
       "121      1188             1141              513\n",
       "122      1198              571              551\n",
       "123      1199              523              515\n",
       "124      1200             1104             1103\n",
       "125      1201             1125              765\n",
       "\n",
       "[126 rows x 3 columns]"
      ]
     },
     "metadata": {},
     "output_type": "display_data"
    }
   ],
   "source": [
    "recommendation_courses_df = pd.DataFrame(columns=['Course_id', 'Recommendation_1', 'Recommendation_2'])\n",
    "# Перебираем все курсы из множества курсов\n",
    "for course_id in courses_set:\n",
    "    row = Get_Recommendation(course_id) # Получаем рекомендации\n",
    "    if row is not None: \n",
    "        row_df = pd.DataFrame({'Course_id': row[0], 'Recommendation_1': row[1], 'Recommendation_2': row[2]}, index=[0])\n",
    "        recommendation_courses_df = pd.concat([recommendation_courses_df, row_df], ignore_index=True)\n",
    "    recommendation_courses_df.reset_index()\n",
    "display(recommendation_courses_df)"
   ]
  }
 ],
 "metadata": {
  "kernelspec": {
   "display_name": "Python 3",
   "language": "python",
   "name": "python3"
  },
  "language_info": {
   "codemirror_mode": {
    "name": "ipython",
    "version": 3
   },
   "file_extension": ".py",
   "mimetype": "text/x-python",
   "name": "python",
   "nbconvert_exporter": "python",
   "pygments_lexer": "ipython3",
   "version": "3.9.10"
  },
  "orig_nbformat": 4
 },
 "nbformat": 4,
 "nbformat_minor": 2
}
